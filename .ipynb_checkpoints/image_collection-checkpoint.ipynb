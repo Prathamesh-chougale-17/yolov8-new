{
 "cells": [
  {
   "cell_type": "code",
   "execution_count": 1,
   "metadata": {
    "scrolled": true
   },
   "outputs": [
    {
     "name": "stdout",
     "output_type": "stream",
     "text": [
      "Requirement already satisfied: opencv-python in d:\\anaconda\\envs\\torchwithyolo\\lib\\site-packages (4.7.0)\n",
      "Note: you may need to restart the kernel to use updated packages.\n"
     ]
    }
   ],
   "source": [
    "%pip install opencv-python"
   ]
  },
  {
   "cell_type": "code",
   "execution_count": 1,
   "metadata": {},
   "outputs": [],
   "source": [
    "# Import opencv\n",
    "import cv2 \n",
    "\n",
    "# Import uuid\n",
    "import uuid\n",
    "\n",
    "# Import Operating System\n",
    "import os\n",
    "\n",
    "# Import time\n",
    "import time"
   ]
  },
  {
   "cell_type": "markdown",
   "metadata": {},
   "source": [
    "Define images to collect"
   ]
  },
  {
   "cell_type": "code",
   "execution_count": 2,
   "metadata": {},
   "outputs": [],
   "source": [
    "labels = ['prathamesh chougale','phone','headphone']\n",
    "number_of_img = 15"
   ]
  },
  {
   "cell_type": "markdown",
   "metadata": {},
   "source": [
    "Setup Folder"
   ]
  },
  {
   "cell_type": "code",
   "execution_count": 3,
   "metadata": {},
   "outputs": [],
   "source": [
    "IMAGES_PATH = os.path.join('Tensorflow','workspace','images','collectedimages')"
   ]
  },
  {
   "cell_type": "code",
   "execution_count": 4,
   "metadata": {},
   "outputs": [
    {
     "name": "stdout",
     "output_type": "stream",
     "text": [
      "Tensorflow\\workspace\\images\\collectedimages\n"
     ]
    }
   ],
   "source": [
    "print(IMAGES_PATH)"
   ]
  },
  {
   "cell_type": "code",
   "execution_count": 5,
   "metadata": {},
   "outputs": [
    {
     "data": {
      "text/plain": [
       "'nt'"
      ]
     },
     "execution_count": 5,
     "metadata": {},
     "output_type": "execute_result"
    }
   ],
   "source": [
    "os.name"
   ]
  },
  {
   "cell_type": "code",
   "execution_count": 6,
   "metadata": {},
   "outputs": [],
   "source": [
    "if not os.path.exists(IMAGES_PATH):\n",
    "    if os.name == 'posix':\n",
    "        os.makedirs(IMAGES_PATH)\n",
    "    if os.name == 'nt':\n",
    "        os.makedirs(IMAGES_PATH)\n",
    "for label in labels:\n",
    "    path = os.path.join(IMAGES_PATH,label)\n",
    "    if not os.path.exists(path):\n",
    "        os.makedirs(path)"
   ]
  },
  {
   "cell_type": "code",
   "execution_count": 8,
   "metadata": {},
   "outputs": [],
   "source": [
    "for label in labels:\n",
    "    cap = cv2.VideoCapture(0) #connect to our webcam or capture device\n",
    "    print('collecting images for {}'.format(label))\n",
    "    time.sleep(5)\n",
    "    for imgnum in range(number_of_img):\n",
    "        print('collecting image {}'.format(imgnum))\n",
    "        ret, frame = cap.read()\n",
    "        imgname = os.path.join(IMAGES_PATH,label,label+'.'+'{}.jpg'.format(str(uuid.uuid1())))\n",
    "        cv2.imwrite(imgname,frame)\n",
    "        cv2.imshow('frame',frame)\n",
    "        time.sleep(2)\n",
    "        \n",
    "        if cv2.waitKey(1) & 0xFF == ord('q'):\n",
    "            break\n",
    "cap.release()\n",
    "cv2.destroyAllWindows()"
   ]
  },
  {
   "cell_type": "markdown",
   "metadata": {},
   "source": [
    "5. Image Labelling"
   ]
  },
  {
   "cell_type": "code",
   "execution_count": 7,
   "metadata": {},
   "outputs": [
    {
     "name": "stdout",
     "output_type": "stream",
     "text": [
      "Requirement already satisfied: pyqt5 in d:\\anaconda\\envs\\torchwithyolo\\lib\\site-packages (5.15.10)\n",
      "Requirement already satisfied: lxml in d:\\anaconda\\envs\\torchwithyolo\\lib\\site-packages (5.0.1)\n",
      "Requirement already satisfied: PyQt5-sip<13,>=12.13 in d:\\anaconda\\envs\\torchwithyolo\\lib\\site-packages (from pyqt5) (12.13.0)\n",
      "Requirement already satisfied: PyQt5-Qt5>=5.15.2 in d:\\anaconda\\envs\\torchwithyolo\\lib\\site-packages (from pyqt5) (5.15.2)\n",
      "Note: you may need to restart the kernel to use updated packages.\n"
     ]
    }
   ],
   "source": [
    "%pip install --upgrade pyqt5 lxml"
   ]
  },
  {
   "cell_type": "code",
   "execution_count": 32,
   "metadata": {},
   "outputs": [],
   "source": [
    "LABELIMG_PATH = os.path.join('Tensorflow', 'labelimg')"
   ]
  },
  {
   "cell_type": "code",
   "execution_count": 33,
   "metadata": {},
   "outputs": [
    {
     "name": "stderr",
     "output_type": "stream",
     "text": [
      "Cloning into 'Tensorflow\\labelimg'...\n"
     ]
    }
   ],
   "source": [
    "if not os.path.exists(LABELIMG_PATH):\n",
    "    os.makedirs(LABELIMG_PATH)\n",
    "    # clone the github repo\n",
    "    !git clone https://github.com/HumanSignal/labelImg {LABELIMG_PATH}\n",
    "    "
   ]
  },
  {
   "cell_type": "code",
   "execution_count": 35,
   "metadata": {},
   "outputs": [],
   "source": [
    "if os.name == 'posix':\n",
    "    !make qt5py3\n",
    "if os.name =='nt':\n",
    "    !cd {LABELIMG_PATH} && pyrcc5 -o libs/resources.py resources.qrc"
   ]
  },
  {
   "cell_type": "code",
   "execution_count": 36,
   "metadata": {},
   "outputs": [
    {
     "name": "stdout",
     "output_type": "stream",
     "text": [
      "Image:D:\\study\\yolov8\\Tensorflow\\workspace\\images\\collectedimages\\headphone\\headphone.3ccf361e-ab21-11ee-841b-f889d2b2b03c.jpg -> Annotation:D:/study/yolov8/Tensorflow/workspace/images/collectedimages/headphone\\headphone.3ccf361e-ab21-11ee-841b-f889d2b2b03c.xml\n",
      "Image:D:\\study\\yolov8\\Tensorflow\\workspace\\images\\collectedimages\\headphone\\headphone.3e074164-ab21-11ee-8e8e-f889d2b2b03c.jpg -> Annotation:D:/study/yolov8/Tensorflow/workspace/images/collectedimages/headphone\\headphone.3e074164-ab21-11ee-8e8e-f889d2b2b03c.xml\n",
      "Image:D:\\study\\yolov8\\Tensorflow\\workspace\\images\\collectedimages\\headphone\\headphone.3f3f330d-ab21-11ee-acb0-f889d2b2b03c.jpg -> Annotation:D:/study/yolov8/Tensorflow/workspace/images/collectedimages/headphone\\headphone.3f3f330d-ab21-11ee-acb0-f889d2b2b03c.xml\n",
      "Image:D:\\study\\yolov8\\Tensorflow\\workspace\\images\\collectedimages\\headphone\\headphone.4a445326-ab21-11ee-a3f6-f889d2b2b03c.jpg -> Annotation:D:/study/yolov8/Tensorflow/workspace/images/collectedimages/headphone\\headphone.4a445326-ab21-11ee-a3f6-f889d2b2b03c.xml\n",
      "Image:D:\\study\\yolov8\\Tensorflow\\workspace\\images\\collectedimages\\headphone\\headphone.4b7ae7df-ab21-11ee-9f07-f889d2b2b03c.jpg -> Annotation:D:/study/yolov8/Tensorflow/workspace/images/collectedimages/headphone\\headphone.4b7ae7df-ab21-11ee-9f07-f889d2b2b03c.xml\n",
      "Image:D:\\study\\yolov8\\Tensorflow\\workspace\\images\\collectedimages\\headphone\\headphone.4de8cec4-ab21-11ee-b502-f889d2b2b03c.jpg -> Annotation:D:/study/yolov8/Tensorflow/workspace/images/collectedimages/headphone\\headphone.4de8cec4-ab21-11ee-b502-f889d2b2b03c.xml\n",
      "Image:D:\\study\\yolov8\\Tensorflow\\workspace\\images\\collectedimages\\headphone\\headphone.41bab9d2-ab21-11ee-83a1-f889d2b2b03c.jpg -> Annotation:D:/study/yolov8/Tensorflow/workspace/images/collectedimages/headphone\\headphone.41bab9d2-ab21-11ee-83a1-f889d2b2b03c.xml\n",
      "Image:D:\\study\\yolov8\\Tensorflow\\workspace\\images\\collectedimages\\headphone\\headphone.42f443ff-ab21-11ee-933c-f889d2b2b03c.jpg -> Annotation:D:/study/yolov8/Tensorflow/workspace/images/collectedimages/headphone\\headphone.42f443ff-ab21-11ee-933c-f889d2b2b03c.xml\n",
      "Image:D:\\study\\yolov8\\Tensorflow\\workspace\\images\\collectedimages\\headphone\\headphone.47d52309-ab21-11ee-9e72-f889d2b2b03c.jpg -> Annotation:D:/study/yolov8/Tensorflow/workspace/images/collectedimages/headphone\\headphone.47d52309-ab21-11ee-9e72-f889d2b2b03c.xml\n",
      "Image:D:\\study\\yolov8\\Tensorflow\\workspace\\images\\collectedimages\\headphone\\headphone.47d52309-ab21-11ee-9e72-f889d2b2b03c.jpg -> Annotation:D:/study/yolov8/Tensorflow/workspace/images/collectedimages/headphone\\headphone.47d52309-ab21-11ee-9e72-f889d2b2b03c.xml\n",
      "Image:D:\\study\\yolov8\\Tensorflow\\workspace\\images\\collectedimages\\headphone\\headphone.407d45c0-ab21-11ee-9b4b-f889d2b2b03c.jpg -> Annotation:D:/study/yolov8/Tensorflow/workspace/images/collectedimages/headphone\\headphone.407d45c0-ab21-11ee-9b4b-f889d2b2b03c.xml\n",
      "Image:D:\\study\\yolov8\\Tensorflow\\workspace\\images\\collectedimages\\headphone\\headphone.45640df5-ab21-11ee-9227-f889d2b2b03c.jpg -> Annotation:D:/study/yolov8/Tensorflow/workspace/images/collectedimages/headphone\\headphone.45640df5-ab21-11ee-9227-f889d2b2b03c.xml\n",
      "Image:D:\\study\\yolov8\\Tensorflow\\workspace\\images\\collectedimages\\phone\\phone.2a3c2bdb-ab21-11ee-afb6-f889d2b2b03c.jpg -> Annotation:D:/study/yolov8/Tensorflow/workspace/images/collectedimages/phone\\phone.2a3c2bdb-ab21-11ee-afb6-f889d2b2b03c.xml\n",
      "Image:D:\\study\\yolov8\\Tensorflow\\workspace\\images\\collectedimages\\phone\\phone.2b750da7-ab21-11ee-979d-f889d2b2b03c.jpg -> Annotation:D:/study/yolov8/Tensorflow/workspace/images/collectedimages/phone\\phone.2b750da7-ab21-11ee-979d-f889d2b2b03c.xml\n",
      "Image:D:\\study\\yolov8\\Tensorflow\\workspace\\images\\collectedimages\\phone\\phone.2cac6174-ab21-11ee-afcd-f889d2b2b03c.jpg -> Annotation:D:/study/yolov8/Tensorflow/workspace/images/collectedimages/phone\\phone.2cac6174-ab21-11ee-afcd-f889d2b2b03c.xml\n",
      "Image:D:\\study\\yolov8\\Tensorflow\\workspace\\images\\collectedimages\\phone\\phone.2f215d51-ab21-11ee-ae44-f889d2b2b03c.jpg -> Annotation:D:/study/yolov8/Tensorflow/workspace/images/collectedimages/phone\\phone.2f215d51-ab21-11ee-ae44-f889d2b2b03c.xml\n",
      "Image:D:\\study\\yolov8\\Tensorflow\\workspace\\images\\collectedimages\\phone\\phone.2de4d901-ab21-11ee-b6cc-f889d2b2b03c.jpg -> Annotation:D:/study/yolov8/Tensorflow/workspace/images/collectedimages/phone\\phone.2de4d901-ab21-11ee-b6cc-f889d2b2b03c.xml\n",
      "Image:D:\\study\\yolov8\\Tensorflow\\workspace\\images\\collectedimages\\phone\\phone.22d86076-ab21-11ee-8da5-f889d2b2b03c.jpg -> Annotation:D:/study/yolov8/Tensorflow/workspace/images/collectedimages/phone\\phone.22d86076-ab21-11ee-8da5-f889d2b2b03c.xml\n",
      "Image:D:\\study\\yolov8\\Tensorflow\\workspace\\images\\collectedimages\\phone\\phone.22d86076-ab21-11ee-8da5-f889d2b2b03c.jpg -> Annotation:D:/study/yolov8/Tensorflow/workspace/images/collectedimages/phone\\phone.22d86076-ab21-11ee-8da5-f889d2b2b03c.xml\n",
      "Image:D:\\study\\yolov8\\Tensorflow\\workspace\\images\\collectedimages\\phone\\phone.27c599bf-ab21-11ee-9213-f889d2b2b03c.jpg -> Annotation:D:/study/yolov8/Tensorflow/workspace/images/collectedimages/phone\\phone.27c599bf-ab21-11ee-9213-f889d2b2b03c.xml\n",
      "Image:D:\\study\\yolov8\\Tensorflow\\workspace\\images\\collectedimages\\phone\\phone.27c599bf-ab21-11ee-9213-f889d2b2b03c.jpg -> Annotation:D:/study/yolov8/Tensorflow/workspace/images/collectedimages/phone\\phone.27c599bf-ab21-11ee-9213-f889d2b2b03c.xml\n",
      "Image:D:\\study\\yolov8\\Tensorflow\\workspace\\images\\collectedimages\\phone\\phone.28fecb69-ab21-11ee-a458-f889d2b2b03c.jpg -> Annotation:D:/study/yolov8/Tensorflow/workspace/images/collectedimages/phone\\phone.28fecb69-ab21-11ee-a458-f889d2b2b03c.xml\n",
      "Image:D:\\study\\yolov8\\Tensorflow\\workspace\\images\\collectedimages\\phone\\phone.32c686b0-ab21-11ee-a18e-f889d2b2b03c.jpg -> Annotation:D:/study/yolov8/Tensorflow/workspace/images/collectedimages/phone\\phone.32c686b0-ab21-11ee-a18e-f889d2b2b03c.xml\n",
      "Image:D:\\study\\yolov8\\Tensorflow\\workspace\\images\\collectedimages\\phone\\phone.32c686b0-ab21-11ee-a18e-f889d2b2b03c.jpg -> Annotation:D:/study/yolov8/Tensorflow/workspace/images/collectedimages/phone\\phone.32c686b0-ab21-11ee-a18e-f889d2b2b03c.xml\n",
      "Image:D:\\study\\yolov8\\Tensorflow\\workspace\\images\\collectedimages\\phone\\phone.2687d083-ab21-11ee-ac9b-f889d2b2b03c.jpg -> Annotation:D:/study/yolov8/Tensorflow/workspace/images/collectedimages/phone\\phone.2687d083-ab21-11ee-ac9b-f889d2b2b03c.xml\n",
      "Image:D:\\study\\yolov8\\Tensorflow\\workspace\\images\\collectedimages\\phone\\phone.24104f91-ab21-11ee-92b2-f889d2b2b03c.jpg -> Annotation:D:/study/yolov8/Tensorflow/workspace/images/collectedimages/phone\\phone.24104f91-ab21-11ee-92b2-f889d2b2b03c.xml\n",
      "Image:D:\\study\\yolov8\\Tensorflow\\workspace\\images\\collectedimages\\phone\\phone.31900593-ab21-11ee-82c8-f889d2b2b03c.jpg -> Annotation:D:/study/yolov8/Tensorflow/workspace/images/collectedimages/phone\\phone.31900593-ab21-11ee-82c8-f889d2b2b03c.xml\n",
      "Image:D:\\study\\yolov8\\Tensorflow\\workspace\\images\\collectedimages\\phone\\phone.34052261-ab21-11ee-aed9-f889d2b2b03c.jpg -> Annotation:D:/study/yolov8/Tensorflow/workspace/images/collectedimages/phone\\phone.34052261-ab21-11ee-aed9-f889d2b2b03c.xml\n",
      "Image:D:\\study\\yolov8\\Tensorflow\\workspace\\images\\collectedimages\\phone\\phone.34052261-ab21-11ee-aed9-f889d2b2b03c.jpg -> Annotation:D:/study/yolov8/Tensorflow/workspace/images/collectedimages/phone\\phone.34052261-ab21-11ee-aed9-f889d2b2b03c.xml\n",
      "Image:D:\\study\\yolov8\\Tensorflow\\workspace\\images\\collectedimages\\prathamesh chougale\\prathamesh chougale.0a4e3dbb-ab21-11ee-a1b6-f889d2b2b03c.jpg -> Annotation:D:/study/yolov8/Tensorflow/workspace/images/collectedimages/prathamesh chougale\\prathamesh chougale.0a4e3dbb-ab21-11ee-a1b6-f889d2b2b03c.xml\n",
      "Image:D:\\study\\yolov8\\Tensorflow\\workspace\\images\\collectedimages\\prathamesh chougale\\prathamesh chougale.0b8a29d6-ab21-11ee-be4e-f889d2b2b03c.jpg -> Annotation:D:/study/yolov8/Tensorflow/workspace/images/collectedimages/prathamesh chougale\\prathamesh chougale.0b8a29d6-ab21-11ee-be4e-f889d2b2b03c.xml\n",
      "Image:D:\\study\\yolov8\\Tensorflow\\workspace\\images\\collectedimages\\prathamesh chougale\\prathamesh chougale.0cc762f8-ab21-11ee-be92-f889d2b2b03c.jpg -> Annotation:D:/study/yolov8/Tensorflow/workspace/images/collectedimages/prathamesh chougale\\prathamesh chougale.0cc762f8-ab21-11ee-be92-f889d2b2b03c.xml\n",
      "Image:D:\\study\\yolov8\\Tensorflow\\workspace\\images\\collectedimages\\prathamesh chougale\\prathamesh chougale.0f3eac3b-ab21-11ee-8244-f889d2b2b03c.jpg -> Annotation:D:/study/yolov8/Tensorflow/workspace/images/collectedimages/prathamesh chougale\\prathamesh chougale.0f3eac3b-ab21-11ee-8244-f889d2b2b03c.xml\n",
      "Image:D:\\study\\yolov8\\Tensorflow\\workspace\\images\\collectedimages\\prathamesh chougale\\prathamesh chougale.0dff8655-ab21-11ee-937c-f889d2b2b03c.jpg -> Annotation:D:/study/yolov8/Tensorflow/workspace/images/collectedimages/prathamesh chougale\\prathamesh chougale.0dff8655-ab21-11ee-937c-f889d2b2b03c.xml\n",
      "Image:D:\\study\\yolov8\\Tensorflow\\workspace\\images\\collectedimages\\prathamesh chougale\\prathamesh chougale.0dff8655-ab21-11ee-937c-f889d2b2b03c.jpg -> Annotation:D:/study/yolov8/Tensorflow/workspace/images/collectedimages/prathamesh chougale\\prathamesh chougale.0dff8655-ab21-11ee-937c-f889d2b2b03c.xml\n",
      "Image:D:\\study\\yolov8\\Tensorflow\\workspace\\images\\collectedimages\\prathamesh chougale\\prathamesh chougale.1a4c797e-ab21-11ee-ad2b-f889d2b2b03c.jpg -> Annotation:D:/study/yolov8/Tensorflow/workspace/images/collectedimages/prathamesh chougale\\prathamesh chougale.1a4c797e-ab21-11ee-ad2b-f889d2b2b03c.xml\n",
      "Image:D:\\study\\yolov8\\Tensorflow\\workspace\\images\\collectedimages\\prathamesh chougale\\prathamesh chougale.08ff7852-ab21-11ee-86d5-f889d2b2b03c.jpg -> Annotation:D:/study/yolov8/Tensorflow/workspace/images/collectedimages/prathamesh chougale\\prathamesh chougale.08ff7852-ab21-11ee-86d5-f889d2b2b03c.xml\n",
      "Image:D:\\study\\yolov8\\Tensorflow\\workspace\\images\\collectedimages\\prathamesh chougale\\prathamesh chougale.11b85750-ab21-11ee-80d8-f889d2b2b03c.jpg -> Annotation:D:/study/yolov8/Tensorflow/workspace/images/collectedimages/prathamesh chougale\\prathamesh chougale.11b85750-ab21-11ee-80d8-f889d2b2b03c.xml\n",
      "Image:D:\\study\\yolov8\\Tensorflow\\workspace\\images\\collectedimages\\prathamesh chougale\\prathamesh chougale.12f194b9-ab21-11ee-9184-f889d2b2b03c.jpg -> Annotation:D:/study/yolov8/Tensorflow/workspace/images/collectedimages/prathamesh chougale\\prathamesh chougale.12f194b9-ab21-11ee-9184-f889d2b2b03c.xml\n",
      "Image:D:\\study\\yolov8\\Tensorflow\\workspace\\images\\collectedimages\\prathamesh chougale\\prathamesh chougale.17d0e6d1-ab21-11ee-a466-f889d2b2b03c.jpg -> Annotation:D:/study/yolov8/Tensorflow/workspace/images/collectedimages/prathamesh chougale\\prathamesh chougale.17d0e6d1-ab21-11ee-a466-f889d2b2b03c.xml\n",
      "Image:D:\\study\\yolov8\\Tensorflow\\workspace\\images\\collectedimages\\prathamesh chougale\\prathamesh chougale.107a64db-ab21-11ee-a986-f889d2b2b03c.jpg -> Annotation:D:/study/yolov8/Tensorflow/workspace/images/collectedimages/prathamesh chougale\\prathamesh chougale.107a64db-ab21-11ee-a986-f889d2b2b03c.xml\n",
      "Image:D:\\study\\yolov8\\Tensorflow\\workspace\\images\\collectedimages\\prathamesh chougale\\prathamesh chougale.142a3765-ab21-11ee-bf37-f889d2b2b03c.jpg -> Annotation:D:/study/yolov8/Tensorflow/workspace/images/collectedimages/prathamesh chougale\\prathamesh chougale.142a3765-ab21-11ee-bf37-f889d2b2b03c.xml\n",
      "Image:D:\\study\\yolov8\\Tensorflow\\workspace\\images\\collectedimages\\prathamesh chougale\\prathamesh chougale.190e89be-ab21-11ee-9ceb-f889d2b2b03c.jpg -> Annotation:D:/study/yolov8/Tensorflow/workspace/images/collectedimages/prathamesh chougale\\prathamesh chougale.190e89be-ab21-11ee-9ceb-f889d2b2b03c.xml\n",
      "Image:D:\\study\\yolov8\\Tensorflow\\workspace\\images\\collectedimages\\prathamesh chougale\\prathamesh chougale.16994ec9-ab21-11ee-81b7-f889d2b2b03c.jpg -> Annotation:D:/study/yolov8/Tensorflow/workspace/images/collectedimages/prathamesh chougale\\prathamesh chougale.16994ec9-ab21-11ee-81b7-f889d2b2b03c.xml\n",
      "Image:D:\\study\\yolov8\\Tensorflow\\workspace\\images\\collectedimages\\prathamesh chougale\\prathamesh chougale.156092e1-ab21-11ee-92e0-f889d2b2b03c.jpg -> Annotation:D:/study/yolov8/Tensorflow/workspace/images/collectedimages/prathamesh chougale\\prathamesh chougale.156092e1-ab21-11ee-92e0-f889d2b2b03c.xml\n"
     ]
    },
    {
     "name": "stderr",
     "output_type": "stream",
     "text": [
      "QMimeDatabase: Error loading internal MIME data\n",
      "An error has been encountered at line 1 of <internal MIME data>: Premature end of document.:\n",
      "2024-01-07T05:55:05.599ZE [23676:ShellIpcClient] shell_ipc_client.cc:139:Connect Can't connect to socket at: \\\\.\\Pipe\\GoogleDriveFSPipe_prathamesh chougale_shell\n",
      "2024-01-07T05:55:05.612ZE [23676:ShellIpcClient] shell_ipc_client.cc:622:operator() Failed to connect to the server: NOT_FOUND: Can't connect to socket at: \\\\.\\Pipe\\GoogleDriveFSPipe_prathamesh chougale_shell [type.googleapis.com/drive.ds.Status='UNAVAILABLE_RESOURCE']\n",
      "=== Source Location Trace: ===\n",
      "apps/drive/fs/ipc/shell_ipc_client.cc:140\n",
      "\n",
      "2024-01-07T05:55:05.612ZE [32568:ShellIpcClient] shell_ipc_client.cc:139:Connect Can't connect to socket at: \\\\.\\Pipe\\GoogleDriveFSPipe_prathamesh chougale_shell\n",
      "2024-01-07T05:55:05.612ZE [32568:ShellIpcClient] shell_ipc_client.cc:622:operator() Failed to connect to the server: NOT_FOUND: Can't connect to socket at: \\\\.\\Pipe\\GoogleDriveFSPipe_prathamesh chougale_shell [type.googleapis.com/drive.ds.Status='UNAVAILABLE_RESOURCE']\n",
      "=== Source Location Trace: ===\n",
      "apps/drive/fs/ipc/shell_ipc_client.cc:140\n",
      "\n",
      "2024-01-07T05:55:05.612ZE [23676:ShellIpcClient] shell_ipc_client.cc:139:Connect Can't connect to socket at: \\\\.\\Pipe\\GoogleDriveFSPipe_prathamesh chougale_shell\n",
      "2024-01-07T05:55:05.612ZE [23676:ShellIpcClient] shell_ipc_client.cc:622:operator() Failed to connect to the server: NOT_FOUND: Can't connect to socket at: \\\\.\\Pipe\\GoogleDriveFSPipe_prathamesh chougale_shell [type.googleapis.com/drive.ds.Status='UNAVAILABLE_RESOURCE']\n",
      "=== Source Location Trace: ===\n",
      "apps/drive/fs/ipc/shell_ipc_client.cc:140\n",
      "\n",
      "2024-01-07T05:55:05.612ZE [2572:ShellIpcClient] shell_ipc_client.cc:139:Connect Can't connect to socket at: \\\\.\\Pipe\\GoogleDriveFSPipe_prathamesh chougale_shell\n",
      "2024-01-07T05:55:05.612ZE [2572:ShellIpcClient] shell_ipc_client.cc:622:operator() Failed to connect to the server: NOT_FOUND: Can't connect to socket at: \\\\.\\Pipe\\GoogleDriveFSPipe_prathamesh chougale_shell [type.googleapis.com/drive.ds.Status='UNAVAILABLE_RESOURCE']\n",
      "=== Source Location Trace: ===\n",
      "apps/drive/fs/ipc/shell_ipc_client.cc:140\n",
      "\n",
      "2024-01-07T05:55:05.612ZE [32568:ShellIpcClient] shell_ipc_client.cc:139:Connect Can't connect to socket at: \\\\.\\Pipe\\GoogleDriveFSPipe_prathamesh chougale_shell\n",
      "2024-01-07T05:55:05.612ZE [32568:ShellIpcClient] shell_ipc_client.cc:622:operator() Failed to connect to the server: NOT_FOUND: Can't connect to socket at: \\\\.\\Pipe\\GoogleDriveFSPipe_prathamesh chougale_shell [type.googleapis.com/drive.ds.Status='UNAVAILABLE_RESOURCE']\n",
      "=== Source Location Trace: ===\n",
      "apps/drive/fs/ipc/shell_ipc_client.cc:140\n",
      "\n",
      "2024-01-07T05:55:05.613ZE [2572:ShellIpcClient] shell_ipc_client.cc:139:Connect Can't connect to socket at: \\\\.\\Pipe\\GoogleDriveFSPipe_prathamesh chougale_shell\n",
      "2024-01-07T05:55:05.613ZE [2572:ShellIpcClient] shell_ipc_client.cc:622:operator() Failed to connect to the server: NOT_FOUND: Can't connect to socket at: \\\\.\\Pipe\\GoogleDriveFSPipe_prathamesh chougale_shell [type.googleapis.com/drive.ds.Status='UNAVAILABLE_RESOURCE']\n",
      "=== Source Location Trace: ===\n",
      "apps/drive/fs/ipc/shell_ipc_client.cc:140\n",
      "\n",
      "2024-01-07T07:50:56.016ZE [23676:ShellIpcClient] shell_ipc_client.cc:139:Connect Can't connect to socket at: \\\\.\\Pipe\\GoogleDriveFSPipe_prathamesh chougale_shell\n",
      "2024-01-07T07:50:56.019ZE [23676:ShellIpcClient] shell_ipc_client.cc:622:operator() Failed to connect to the server: NOT_FOUND: Can't connect to socket at: \\\\.\\Pipe\\GoogleDriveFSPipe_prathamesh chougale_shell [type.googleapis.com/drive.ds.Status='UNAVAILABLE_RESOURCE']\n",
      "=== Source Location Trace: ===\n",
      "apps/drive/fs/ipc/shell_ipc_client.cc:140\n",
      "\n",
      "2024-01-07T07:50:56.020ZE [23676:ShellIpcClient] shell_ipc_client.cc:139:Connect Can't connect to socket at: \\\\.\\Pipe\\GoogleDriveFSPipe_prathamesh chougale_shell\n",
      "2024-01-07T07:50:56.020ZE [23676:ShellIpcClient] shell_ipc_client.cc:622:operator() Failed to connect to the server: NOT_FOUND: Can't connect to socket at: \\\\.\\Pipe\\GoogleDriveFSPipe_prathamesh chougale_shell [type.googleapis.com/drive.ds.Status='UNAVAILABLE_RESOURCE']\n",
      "=== Source Location Trace: ===\n",
      "apps/drive/fs/ipc/shell_ipc_client.cc:140\n",
      "\n",
      "2024-01-07T07:50:56.021ZE [32568:ShellIpcClient] shell_ipc_client.cc:139:Connect Can't connect to socket at: \\\\.\\Pipe\\GoogleDriveFSPipe_prathamesh chougale_shell\n",
      "2024-01-07T07:50:56.021ZE [32568:ShellIpcClient] shell_ipc_client.cc:622:operator() Failed to connect to the server: NOT_FOUND: Can't connect to socket at: \\\\.\\Pipe\\GoogleDriveFSPipe_prathamesh chougale_shell [type.googleapis.com/drive.ds.Status='UNAVAILABLE_RESOURCE']\n",
      "=== Source Location Trace: ===\n",
      "apps/drive/fs/ipc/shell_ipc_client.cc:140\n",
      "\n",
      "2024-01-07T07:50:56.022ZE [32568:ShellIpcClient] shell_ipc_client.cc:139:Connect Can't connect to socket at: \\\\.\\Pipe\\GoogleDriveFSPipe_prathamesh chougale_shell\n",
      "2024-01-07T07:50:56.022ZE [32568:ShellIpcClient] shell_ipc_client.cc:622:operator() Failed to connect to the server: NOT_FOUND: Can't connect to socket at: \\\\.\\Pipe\\GoogleDriveFSPipe_prathamesh chougale_shell [type.googleapis.com/drive.ds.Status='UNAVAILABLE_RESOURCE']\n",
      "=== Source Location Trace: ===\n",
      "apps/drive/fs/ipc/shell_ipc_client.cc:140\n",
      "\n",
      "2024-01-07T07:50:56.022ZE [2572:ShellIpcClient] shell_ipc_client.cc:139:Connect Can't connect to socket at: \\\\.\\Pipe\\GoogleDriveFSPipe_prathamesh chougale_shell\n",
      "2024-01-07T07:50:56.022ZE [2572:ShellIpcClient] shell_ipc_client.cc:622:operator() Failed to connect to the server: NOT_FOUND: Can't connect to socket at: \\\\.\\Pipe\\GoogleDriveFSPipe_prathamesh chougale_shell [type.googleapis.com/drive.ds.Status='UNAVAILABLE_RESOURCE']\n",
      "=== Source Location Trace: ===\n",
      "apps/drive/fs/ipc/shell_ipc_client.cc:140\n",
      "\n",
      "2024-01-07T07:50:56.022ZE [2572:ShellIpcClient] shell_ipc_client.cc:139:Connect Can't connect to socket at: \\\\.\\Pipe\\GoogleDriveFSPipe_prathamesh chougale_shell\n",
      "2024-01-07T07:50:56.022ZE [2572:ShellIpcClient] shell_ipc_client.cc:622:operator() Failed to connect to the server: NOT_FOUND: Can't connect to socket at: \\\\.\\Pipe\\GoogleDriveFSPipe_prathamesh chougale_shell [type.googleapis.com/drive.ds.Status='UNAVAILABLE_RESOURCE']\n",
      "=== Source Location Trace: ===\n",
      "apps/drive/fs/ipc/shell_ipc_client.cc:140\n",
      "\n"
     ]
    }
   ],
   "source": [
    "!cd {LABELIMG_PATH} && python labelImg.py"
   ]
  },
  {
   "cell_type": "code",
   "execution_count": null,
   "metadata": {},
   "outputs": [],
   "source": [
    "TRAIN_PATH = os.path.join('Tensorflow','workspace','images','train')"
   ]
  },
  {
   "cell_type": "code",
   "execution_count": null,
   "metadata": {},
   "outputs": [],
   "source": [
    "TEST_PATH = os.path.join('Tensorflow','workspace','images','test')"
   ]
  }
 ],
 "metadata": {
  "kernelspec": {
   "display_name": "torchwithyolo",
   "language": "python",
   "name": "torchwithyolo"
  },
  "language_info": {
   "codemirror_mode": {
    "name": "ipython",
    "version": 3
   },
   "file_extension": ".py",
   "mimetype": "text/x-python",
   "name": "python",
   "nbconvert_exporter": "python",
   "pygments_lexer": "ipython3",
   "version": "3.8.18"
  }
 },
 "nbformat": 4,
 "nbformat_minor": 2
}
